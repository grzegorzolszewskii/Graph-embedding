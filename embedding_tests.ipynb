{
 "cells": [
  {
   "cell_type": "code",
   "execution_count": 112,
   "id": "d52b2c96-d415-46f5-ab9b-1de84744fd9a",
   "metadata": {},
   "outputs": [],
   "source": [
    "import torch as th\n",
    "import numpy as np\n",
    "\n",
    "\n",
    "class Euclidean:\n",
    "    def __init__(self, max_norm=None, K=None, **kwargs):\n",
    "        self.max_norm = max_norm\n",
    "        self.K = K\n",
    "        if K is not None:\n",
    "            self.inner_radius = 2 * self.K / (1 + np.sqrt(1 + 4 * self.K * self.K))\n",
    "\n",
    "    def init_weights(self, w, scale=1e-4):\n",
    "        w.weight.data.uniform_(-scale, scale)\n",
    "\n",
    "    def distance(self, u, v):\n",
    "        return ((u - v).pow(2)).pow(1/2).sum(dim=-1)\n",
    "\n",
    "from torch.nn import Module\n",
    "from torch.nn import Embedding\n",
    "import torch.nn.functional as fun\n",
    "from torch import zeros\n",
    "\n",
    "\n",
    "class Model(Module):\n",
    "    def __init__(self, manifold, n, dim, sparse=False):\n",
    "        super().__init__()\n",
    "        self.manifold = manifold\n",
    "        self.n = n\n",
    "        self.dim = dim\n",
    "        self.model = Embedding(n, dim, sparse=sparse)\n",
    "\n",
    "    def forward(self, inputs):  # z inputs zrobi preds - z macierzy 10x52 zrobi sie 10x52xdim\n",
    "        e = self.model(inputs)  # macierz 10x52xdim, to bedzie e to preds z pliku embed - tu wykonuje sie zanurzenie\n",
    "        o = e.narrow(1, 1, e.size(1) - 1)   # macierz e bez 1 kolumny (10x51xdim)\n",
    "        s = e.narrow(1, 0, 1).expand_as(o)  # macierz 10x51xdim - wiersz to powt. sie 1 kolumna z e\n",
    "        dist = self.manifold.distance(s, o)\n",
    "        return dist.squeeze(-1)\n",
    "\n",
    "    def loss(self, inp):\n",
    "        return fun.cross_entropy(inp.neg(), target=zeros())\n",
    "    \n",
    "import pandas as pd\n",
    "import random\n",
    "\n",
    "\n",
    "def load_graph(vertices_num):\n",
    "    edges_set = {i + 1: set() for i in range(vertices_num)}\n",
    "    edges_pd = pd.read_csv('0_changed.edges', header=None, delimiter=\" \")\n",
    "\n",
    "    for i in range(len(edges_pd)):\n",
    "        if edges_pd[0][i] <= vertices_num and edges_pd[1][i] <= vertices_num:\n",
    "            edges_set[edges_pd[0][i]].add(edges_pd[1][i])\n",
    "            edges_set[edges_pd[1][i]].add(edges_pd[0][i])\n",
    "\n",
    "    # edges_set[2].add(3)\n",
    "    # sprawdzam poprawnosc - uzywajac powyzszej linijki tworze blad w danych\n",
    "    for num1 in edges_set:\n",
    "        for num2 in edges_set:\n",
    "            if num2 in edges_set[num1] and num1 not in edges_set[num2]:\n",
    "                raise ValueError(\"Blad w danych\")\n",
    "\n",
    "    # usuwam zbiory puste - po zmianie pliku zakladam ze ich nie ma\n",
    "    for j in list(edges_set):\n",
    "        if edges_set[j] == set():\n",
    "            print(\"Ucinam niepolaczony wierzch nr: \", j)\n",
    "            edges_set.pop(j)\n",
    "\n",
    "    return edges_set\n"
   ]
  },
  {
   "cell_type": "code",
   "execution_count": 7,
   "id": "f442687c-f7bb-4ae2-bacb-fcce90941744",
   "metadata": {},
   "outputs": [],
   "source": [
    "P_Eukl = Euclidean()\n",
    "graph = load_graph(330)\n",
    "from random import choice, randint"
   ]
  },
  {
   "cell_type": "code",
   "execution_count": 110,
   "id": "c05bfb22-facd-4b2d-9feb-49f8391618a8",
   "metadata": {},
   "outputs": [],
   "source": [
    "model_n330 = Model(P_Eukl, 330, 2)\n",
    "model_n10 = Model(P_Eukl, 10, 2)\n",
    "model_n520 = Model(P_Eukl, 520, 2)"
   ]
  },
  {
   "cell_type": "code",
   "execution_count": 111,
   "id": "61d07957-d261-4c8d-86b2-6aa2d6656c98",
   "metadata": {},
   "outputs": [
    {
     "data": {
      "text/plain": [
       "tensor([[0.1301, 1.6150, 1.7790, 2.2804],\n",
       "        [2.7392, 0.0000, 1.6344, 2.7656]], grad_fn=<SqueezeBackward1>)"
      ]
     },
     "execution_count": 111,
     "metadata": {},
     "output_type": "execute_result"
    }
   ],
   "source": [
    "# test\n",
    "input_test = th.LongTensor([[1,2,3,4,5],[3,4,3,2,9]])\n",
    "model_n10(input_test)  # dziala"
   ]
  },
  {
   "cell_type": "code",
   "execution_count": 103,
   "id": "da86fc50-fdd0-4825-a8e1-bf64a15b9d82",
   "metadata": {},
   "outputs": [],
   "source": [
    "# zmieniam th.zeros na th.rand\n",
    "inputs = th.randint(330, (10,52))\n",
    "for i in range(0, 10): \n",
    "    batch = i+1\n",
    "    batch_connected = choice(tuple(graph[batch]))\n",
    "    inputs[i, 0] = batch\n",
    "    inputs[i, 1] = batch_connected\n",
    "    for j in range(2, 52):  \n",
    "        inputs[i, j] = randint(1, 330)\n",
    "        while inputs[i, j].item() in graph[batch]:\n",
    "            inputs[i, j] = randint(1, 330)"
   ]
  },
  {
   "cell_type": "code",
   "execution_count": 113,
   "id": "bfb385a3-92b7-4191-88b1-e6ff9d24de3b",
   "metadata": {},
   "outputs": [
    {
     "data": {
      "text/plain": [
       "tensor([[1.9103, 1.1239, 0.4525, 1.6597, 1.7578, 1.3541, 1.0932, 1.2980, 2.7206,\n",
       "         2.2948, 1.7337, 2.4548, 1.7046, 2.2676, 2.2948, 2.2676, 2.8214, 1.3031,\n",
       "         0.4249, 3.6460, 1.9101, 2.6832, 2.1680, 0.3705, 0.8415, 1.9503, 2.9763,\n",
       "         0.8685, 1.0664, 2.9355, 2.5749, 0.2611, 2.1939, 2.3237, 2.8502, 1.1023,\n",
       "         2.4086, 3.2502, 1.8479, 1.2779, 2.0304, 1.8911, 2.3412, 1.0245, 1.3193,\n",
       "         2.1194, 2.6501, 0.8439, 0.5808, 2.8502, 1.6055],\n",
       "        [1.3925, 1.6917, 2.4082, 0.7898, 0.7097, 0.3200, 2.0130, 1.7219, 2.7803,\n",
       "         3.2535, 1.3827, 0.8240, 2.4082, 1.8787, 0.7442, 0.2808, 2.2491, 0.9688,\n",
       "         0.9951, 0.6821, 1.5274, 1.6874, 2.9505, 2.3207, 1.7736, 1.9696, 2.7995,\n",
       "         2.1858, 2.1054, 3.0145, 0.8384, 2.6579, 0.4749, 0.9688, 1.7384, 1.5572,\n",
       "         0.4694, 1.4998, 1.6410, 2.7995, 1.1651, 0.2996, 0.6249, 2.0130, 2.4566,\n",
       "         1.3340, 2.1560, 2.2850, 0.9750, 1.9422, 2.4566],\n",
       "        [2.3186, 2.8060, 1.4454, 1.7178, 1.4546, 3.7746, 1.1816, 1.4890, 2.7880,\n",
       "         1.5172, 2.6442, 0.8302, 0.9335, 0.6936, 2.9553, 0.8366, 3.3006, 1.4890,\n",
       "         0.8366, 1.4611, 1.6378, 2.3102, 2.0541, 1.4651, 1.5738, 2.2441, 1.9430,\n",
       "         4.1706, 1.7178, 1.7396, 1.6955, 1.0421, 3.0621, 2.8611, 2.6768, 0.8285,\n",
       "         1.8548, 4.0340, 2.4764, 1.7700, 0.5497, 1.9422, 0.4318, 1.9444, 1.4283,\n",
       "         2.7174, 2.3694, 1.8140, 1.5636, 1.7700, 2.3472],\n",
       "        [0.7090, 1.7683, 0.3183, 1.3033, 2.1353, 0.5058, 0.9225, 0.8636, 1.0063,\n",
       "         1.0793, 1.5048, 2.2723, 1.5913, 1.5184, 3.2130, 1.8784, 0.5993, 4.5625,\n",
       "         1.4473, 2.1234, 3.6025, 0.9726, 0.7785, 1.8501, 1.6744, 2.0686, 1.0476,\n",
       "         0.0597, 1.7190, 1.8667, 0.9914, 1.4825, 3.0466, 1.1741, 0.3573, 1.1782,\n",
       "         0.7744, 1.5009, 2.4982, 2.5180, 2.0651, 2.8520, 1.9841, 1.5074, 2.0889,\n",
       "         0.4968, 0.8539, 1.1058, 1.3551, 1.2754, 1.8137],\n",
       "        [2.2969, 1.4221, 1.5506, 2.5735, 1.9121, 1.3889, 1.7050, 2.0840, 0.8551,\n",
       "         2.8123, 2.6218, 0.8249, 2.0165, 0.3983, 0.3983, 1.5018, 1.4020, 1.4637,\n",
       "         3.3553, 2.1437, 2.3982, 1.7928, 1.1759, 0.0937, 2.4380, 1.3051, 1.3058,\n",
       "         2.3158, 2.5360, 1.5396, 1.0548, 1.7119, 2.0840, 1.1178, 0.9033, 0.9309,\n",
       "         1.6600, 1.9918, 1.2027, 2.5811, 1.3019, 1.3764, 2.3163, 2.5556, 1.5645,\n",
       "         1.6626, 1.0191, 2.1140, 2.3982, 1.3889, 1.4840],\n",
       "        [1.4949, 2.1734, 1.8708, 1.8298, 3.0047, 0.8726, 2.4668, 3.4130, 2.8350,\n",
       "         2.5880, 0.7477, 2.0828, 3.5072, 1.0776, 2.1734, 1.3208, 2.4290, 1.3626,\n",
       "         3.3344, 3.0047, 0.1946, 2.4630, 2.1861, 1.4101, 2.7152, 1.4059, 2.2364,\n",
       "         2.1861, 1.3957, 0.8170, 2.2417, 1.5806, 1.2455, 2.6750, 1.9688, 1.0329,\n",
       "         2.2417, 2.7152, 3.5979, 1.2481, 0.7186, 0.9496, 3.0096, 1.5708, 1.0776,\n",
       "         1.5263, 2.3404, 3.7859, 1.8628, 2.1232, 3.5979],\n",
       "        [2.6882, 1.4619, 2.5010, 0.5053, 3.7423, 3.5907, 1.9906, 0.5667, 2.4556,\n",
       "         2.2436, 3.4952, 1.9534, 0.9738, 2.3677, 1.9737, 1.0968, 1.1974, 1.1817,\n",
       "         0.4125, 3.5488, 3.7234, 3.4055, 3.0395, 2.7889, 1.6749, 2.2436, 2.1344,\n",
       "         2.4414, 1.9488, 3.1466, 1.4979, 0.3953, 1.3765, 1.7769, 3.5166, 3.3826,\n",
       "         0.5667, 2.2684, 2.2957, 1.5759, 4.0057, 1.7029, 1.3091, 4.4577, 1.4132,\n",
       "         1.5683, 2.0597, 1.5110, 0.5163, 2.5010, 2.3985],\n",
       "        [2.0021, 1.8300, 2.7034, 3.2360, 0.0000, 3.2545, 0.8365, 0.3277, 1.6542,\n",
       "         2.1216, 1.6011, 2.7034, 3.0533, 1.4589, 0.7976, 3.7560, 1.8934, 0.8886,\n",
       "         0.7453, 1.6011, 2.1690, 0.5398, 1.7257, 3.2807, 2.7034, 2.9833, 3.2001,\n",
       "         3.0708, 1.2571, 3.5052, 1.7230, 0.8365, 1.7669, 0.4845, 0.6972, 0.4195,\n",
       "         0.4845, 2.7919, 1.1615, 3.4470, 0.4845, 1.1398, 2.7919, 2.3426, 3.2807,\n",
       "         2.4674, 3.7304, 1.4061, 2.4037, 1.1545, 1.6752],\n",
       "        [1.9533, 2.3654, 2.7033, 0.6763, 3.9663, 2.6841, 1.3906, 2.8598, 2.2937,\n",
       "         1.3593, 0.3162, 3.6373, 3.1630, 1.3423, 0.8276, 4.0015, 1.0468, 1.9657,\n",
       "         1.1647, 3.3601, 0.8276, 0.6926, 3.2340, 0.8672, 0.4707, 2.4230, 2.9244,\n",
       "         1.3897, 2.6684, 1.9411, 1.5025, 1.2243, 3.3601, 2.3663, 2.0321, 2.3859,\n",
       "         1.4362, 1.0066, 0.2593, 0.6453, 2.3654, 0.6926, 1.2115, 1.0861, 1.5579,\n",
       "         1.9534, 2.1231, 2.7248, 2.0982, 2.1698, 4.2469],\n",
       "        [2.6484, 2.5881, 0.9287, 2.9311, 1.3149, 2.7707, 0.9115, 1.8887, 2.3796,\n",
       "         2.1744, 2.9369, 1.9996, 2.6506, 1.4013, 1.9342, 2.0634, 1.8339, 4.5302,\n",
       "         2.2337, 3.0934, 4.2439, 1.9446, 5.0464, 1.9022, 1.0829, 3.0054, 1.4924,\n",
       "         2.9420, 2.1854, 1.4378, 2.0914, 3.0485, 1.3836, 1.8589, 3.0849, 1.8704,\n",
       "         3.0301, 0.5965, 1.7806, 3.8563, 4.1591, 3.2231, 1.7002, 1.0178, 1.8674,\n",
       "         0.8730, 1.4635, 2.9369, 1.4013, 3.0423, 2.8103]],\n",
       "       grad_fn=<SqueezeBackward1>)"
      ]
     },
     "execution_count": 113,
     "metadata": {},
     "output_type": "execute_result"
    }
   ],
   "source": [
    "model_n520(inputs)"
   ]
  },
  {
   "cell_type": "code",
   "execution_count": null,
   "id": "10a87da8-63af-4d93-928a-aa3f31afc0ce",
   "metadata": {},
   "outputs": [],
   "source": []
  }
 ],
 "metadata": {
  "kernelspec": {
   "display_name": "Python 3",
   "language": "python",
   "name": "python3"
  },
  "language_info": {
   "codemirror_mode": {
    "name": "ipython",
    "version": 3
   },
   "file_extension": ".py",
   "mimetype": "text/x-python",
   "name": "python",
   "nbconvert_exporter": "python",
   "pygments_lexer": "ipython3",
   "version": "3.8.8"
  }
 },
 "nbformat": 4,
 "nbformat_minor": 5
}
